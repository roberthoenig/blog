{
 "cells": [
  {
   "cell_type": "markdown",
   "metadata": {},
   "source": [
    "Schreibe hier deinen Eintrag hin."
   ]
  },
  {
   "cell_type": "code",
   "execution_count": 2,
   "metadata": {},
   "outputs": [
    {
     "name": "stdout",
     "output_type": "stream",
     "text": [
      "hello nikola\n",
      "hello nikola\n",
      "hello nikola\n",
      "hello nikola\n",
      "hello nikola\n",
      "hello nikola\n",
      "hello nikola\n",
      "hello nikola\n",
      "hello nikola\n"
     ]
    }
   ],
   "source": [
    "for i in range(1,10):\n",
    "    print(\"hello nikola\")"
   ]
  }
 ],
 "metadata": {
  "kernelspec": {
   "display_name": "Python 3",
   "language": "python",
   "name": "python3"
  },
  "language_info": {
   "codemirror_mode": {
    "name": "ipython",
    "version": 3
   },
   "file_extension": ".py",
   "mimetype": "text/x-python",
   "name": "python",
   "nbconvert_exporter": "python",
   "pygments_lexer": "ipython3",
   "version": "3.5.2"
  },
  "nikola": {
   "category": "",
   "date": "2018-03-28 07:40:40 UTC+02:00",
   "description": "",
   "link": "",
   "slug": "jupyter-test-notebook",
   "tags": "",
   "title": "Jupyter test notebook.",
   "type": "text"
  }
 },
 "nbformat": 4,
 "nbformat_minor": 2
}
